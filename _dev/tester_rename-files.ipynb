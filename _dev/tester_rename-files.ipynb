{
 "cells": [
  {
   "cell_type": "markdown",
   "id": "f6634fc9",
   "metadata": {},
   "source": [
    "# Tester: Rename files"
   ]
  },
  {
   "cell_type": "code",
   "execution_count": 1,
   "id": "7beb165d",
   "metadata": {},
   "outputs": [],
   "source": [
    "import sys\n",
    "from pathlib import Path\n",
    "sys.path.insert(1, str(Path.cwd().parent)) \n",
    "\n",
    "from main import rename_files_from_excel"
   ]
  },
  {
   "cell_type": "code",
   "execution_count": 2,
   "id": "ab13e48c",
   "metadata": {},
   "outputs": [
    {
     "name": "stderr",
     "output_type": "stream",
     "text": [
      "ERROR:root:File 'input-files/hello.txt' does not exist\n",
      "ERROR:root:File 'input-files/world.txt' does not exist\n"
     ]
    },
    {
     "name": "stdout",
     "output_type": "stream",
     "text": [
      "✗ Failed: input-files/hello.txt -> Hello1.txt\n",
      "✗ Failed: input-files/world.txt -> World1.txt\n"
     ]
    }
   ],
   "source": [
    "rename_files_from_excel(excel_path = \"rename-map.xlsx\", \n",
    "                        old_paths_col = \"input\",\n",
    "                        new_name_col = \"output\")"
   ]
  }
 ],
 "metadata": {
  "kernelspec": {
   "display_name": ".venv",
   "language": "python",
   "name": "python3"
  },
  "language_info": {
   "codemirror_mode": {
    "name": "ipython",
    "version": 3
   },
   "file_extension": ".py",
   "mimetype": "text/x-python",
   "name": "python",
   "nbconvert_exporter": "python",
   "pygments_lexer": "ipython3",
   "version": "3.13.2"
  }
 },
 "nbformat": 4,
 "nbformat_minor": 5
}
