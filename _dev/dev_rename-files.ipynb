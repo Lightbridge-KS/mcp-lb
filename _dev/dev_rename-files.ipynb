{
 "cells": [
  {
   "cell_type": "markdown",
   "id": "36eda063",
   "metadata": {},
   "source": [
    "# Dev: Rename Files"
   ]
  },
  {
   "cell_type": "code",
   "execution_count": 1,
   "id": "0559ba6f",
   "metadata": {},
   "outputs": [],
   "source": [
    "import sys\n",
    "from pathlib import Path\n",
    "import pandas as pd\n",
    "sys.path.insert(1, str(Path.cwd().parent)) \n",
    "\n",
    "from lbpy import list_dir"
   ]
  },
  {
   "cell_type": "markdown",
   "id": "28eb1304",
   "metadata": {},
   "source": [
    "## Create Example Files"
   ]
  },
  {
   "cell_type": "code",
   "execution_count": 2,
   "id": "b5814007",
   "metadata": {},
   "outputs": [],
   "source": [
    "# Clean up\n",
    "!rm -rf input-files/*"
   ]
  },
  {
   "cell_type": "code",
   "execution_count": 3,
   "id": "435fb055",
   "metadata": {},
   "outputs": [
    {
     "data": {
      "text/plain": [
       "[None, None]"
      ]
     },
     "execution_count": 3,
     "metadata": {},
     "output_type": "execute_result"
    }
   ],
   "source": [
    "from pathlib import Path\n",
    "\n",
    "filenames = ['input-files/hello.txt', 'input-files/world.txt']\n",
    "# Using list comprehension (following your preference)\n",
    "[Path(filename).touch() for filename in filenames]"
   ]
  },
  {
   "cell_type": "code",
   "execution_count": 13,
   "id": "eda84a05",
   "metadata": {},
   "outputs": [
    {
     "data": {
      "text/plain": [
       "[PosixPath('input-files/World1'), PosixPath('input-files/Hello1')]"
      ]
     },
     "execution_count": 13,
     "metadata": {},
     "output_type": "execute_result"
    }
   ],
   "source": [
    "list_dir(\"input-files/\")"
   ]
  },
  {
   "cell_type": "code",
   "execution_count": 3,
   "id": "68a8c36e",
   "metadata": {},
   "outputs": [
    {
     "data": {
      "application/vnd.microsoft.datawrangler.viewer.v0+json": {
       "columns": [
        {
         "name": "index",
         "rawType": "int64",
         "type": "integer"
        },
        {
         "name": "input",
         "rawType": "object",
         "type": "string"
        },
        {
         "name": "output",
         "rawType": "object",
         "type": "string"
        }
       ],
       "ref": "8d2aef0c-6641-4055-953a-e5b74ff45336",
       "rows": [
        [
         "0",
         "input-files/hello.txt",
         "Hello1"
        ],
        [
         "1",
         "input-files/world.txt",
         "World1"
        ]
       ],
       "shape": {
        "columns": 2,
        "rows": 2
       }
      },
      "text/html": [
       "<div>\n",
       "<style scoped>\n",
       "    .dataframe tbody tr th:only-of-type {\n",
       "        vertical-align: middle;\n",
       "    }\n",
       "\n",
       "    .dataframe tbody tr th {\n",
       "        vertical-align: top;\n",
       "    }\n",
       "\n",
       "    .dataframe thead th {\n",
       "        text-align: right;\n",
       "    }\n",
       "</style>\n",
       "<table border=\"1\" class=\"dataframe\">\n",
       "  <thead>\n",
       "    <tr style=\"text-align: right;\">\n",
       "      <th></th>\n",
       "      <th>input</th>\n",
       "      <th>output</th>\n",
       "    </tr>\n",
       "  </thead>\n",
       "  <tbody>\n",
       "    <tr>\n",
       "      <th>0</th>\n",
       "      <td>input-files/hello.txt</td>\n",
       "      <td>Hello1</td>\n",
       "    </tr>\n",
       "    <tr>\n",
       "      <th>1</th>\n",
       "      <td>input-files/world.txt</td>\n",
       "      <td>World1</td>\n",
       "    </tr>\n",
       "  </tbody>\n",
       "</table>\n",
       "</div>"
      ],
      "text/plain": [
       "                   input  output\n",
       "0  input-files/hello.txt  Hello1\n",
       "1  input-files/world.txt  World1"
      ]
     },
     "execution_count": 3,
     "metadata": {},
     "output_type": "execute_result"
    }
   ],
   "source": [
    "df_map = pd.read_excel(\"rename-map.xlsx\")\n",
    "df_map"
   ]
  },
  {
   "cell_type": "code",
   "execution_count": 4,
   "id": "780ac1d1",
   "metadata": {},
   "outputs": [
    {
     "data": {
      "application/vnd.microsoft.datawrangler.viewer.v0+json": {
       "columns": [
        {
         "name": "index",
         "rawType": "int64",
         "type": "integer"
        },
        {
         "name": "input",
         "rawType": "object",
         "type": "string"
        },
        {
         "name": "output",
         "rawType": "object",
         "type": "string"
        }
       ],
       "ref": "6553ea7d-5dc9-4524-a348-327e4ce6ffdd",
       "rows": [
        [
         "0",
         "input-files/hello.txt",
         "Hello1"
        ],
        [
         "1",
         "input-files/world.txt",
         "World1"
        ]
       ],
       "shape": {
        "columns": 2,
        "rows": 2
       }
      },
      "text/html": [
       "<div>\n",
       "<style scoped>\n",
       "    .dataframe tbody tr th:only-of-type {\n",
       "        vertical-align: middle;\n",
       "    }\n",
       "\n",
       "    .dataframe tbody tr th {\n",
       "        vertical-align: top;\n",
       "    }\n",
       "\n",
       "    .dataframe thead th {\n",
       "        text-align: right;\n",
       "    }\n",
       "</style>\n",
       "<table border=\"1\" class=\"dataframe\">\n",
       "  <thead>\n",
       "    <tr style=\"text-align: right;\">\n",
       "      <th></th>\n",
       "      <th>input</th>\n",
       "      <th>output</th>\n",
       "    </tr>\n",
       "  </thead>\n",
       "  <tbody>\n",
       "    <tr>\n",
       "      <th>0</th>\n",
       "      <td>input-files/hello.txt</td>\n",
       "      <td>Hello1</td>\n",
       "    </tr>\n",
       "    <tr>\n",
       "      <th>1</th>\n",
       "      <td>input-files/world.txt</td>\n",
       "      <td>World1</td>\n",
       "    </tr>\n",
       "  </tbody>\n",
       "</table>\n",
       "</div>"
      ],
      "text/plain": [
       "                   input  output\n",
       "0  input-files/hello.txt  Hello1\n",
       "1  input-files/world.txt  World1"
      ]
     },
     "execution_count": 4,
     "metadata": {},
     "output_type": "execute_result"
    }
   ],
   "source": [
    "df_map"
   ]
  },
  {
   "cell_type": "markdown",
   "id": "3a0dfb4d",
   "metadata": {},
   "source": [
    "## Fn: `Rename Files`"
   ]
  },
  {
   "cell_type": "code",
   "execution_count": 17,
   "id": "29b63360",
   "metadata": {},
   "outputs": [],
   "source": [
    "def rename_files_from_excel(excel_path, old_paths_col, new_name_col):\n",
    "    \"\"\"Rename files from an Excel file mapping\"\"\"\n",
    "    df_map = pd.read_excel(excel_path)\n",
    "    \n",
    "    for index, row in df_map.iterrows():\n",
    "        old_path = row[old_paths_col]\n",
    "        new_name = row[new_name_col]\n",
    "        print(f\"✓ Renamed: {old_path} -> {new_name}\")\n",
    "        rename_file(old_path, new_name)"
   ]
  },
  {
   "cell_type": "code",
   "execution_count": null,
   "id": "62689e69",
   "metadata": {},
   "outputs": [],
   "source": [
    "rename_files_from_excel(\"rename-map.xlsx\", \"input\", \"output\")"
   ]
  },
  {
   "cell_type": "markdown",
   "id": "23782460",
   "metadata": {},
   "source": [
    "## Rename Single with Pathlib"
   ]
  },
  {
   "cell_type": "code",
   "execution_count": null,
   "id": "11f3651d",
   "metadata": {},
   "outputs": [],
   "source": [
    "from pathlib import Path\n",
    "import logging"
   ]
  },
  {
   "cell_type": "code",
   "execution_count": 6,
   "id": "56d21efa",
   "metadata": {},
   "outputs": [],
   "source": [
    "def rename_file(old_path, new_name):\n",
    "    \"\"\"Rename file using pathlib\"\"\"\n",
    "    file_path = Path(old_path)\n",
    "    \n",
    "    if not file_path.exists():\n",
    "        logging.error(f\"File '{old_path}' does not exist\")\n",
    "        return False\n",
    "    \n",
    "    try:\n",
    "        # Create new path in same directory\n",
    "        new_path = file_path.parent / new_name\n",
    "        file_path.rename(new_path)\n",
    "    except OSError:\n",
    "        logging.exception(\"Error occurred during file rename\")"
   ]
  },
  {
   "cell_type": "code",
   "execution_count": 7,
   "id": "2484ea18",
   "metadata": {},
   "outputs": [
    {
     "name": "stderr",
     "output_type": "stream",
     "text": [
      "ERROR:root:File 'data/analysis.csv' does not exist\n"
     ]
    },
    {
     "data": {
      "text/plain": [
       "False"
      ]
     },
     "execution_count": 7,
     "metadata": {},
     "output_type": "execute_result"
    }
   ],
   "source": [
    "# Not Exist\n",
    "rename_file('data/analysis.csv', 'processed_data.csv')"
   ]
  },
  {
   "cell_type": "code",
   "execution_count": 10,
   "id": "d0533f37",
   "metadata": {},
   "outputs": [],
   "source": [
    "rename_file('input-tester/hi-there.txt', 'hi-again.txt')"
   ]
  },
  {
   "cell_type": "markdown",
   "id": "2b295424",
   "metadata": {},
   "source": [
    "## Rename Multiple"
   ]
  },
  {
   "cell_type": "code",
   "execution_count": 12,
   "id": "83c626c2",
   "metadata": {},
   "outputs": [
    {
     "name": "stdout",
     "output_type": "stream",
     "text": [
      "Renaming: input-files/hello.txt -> Hello1\n",
      "Renaming: input-files/world.txt -> World1\n"
     ]
    }
   ],
   "source": [
    "for index, row in df_map.iterrows():\n",
    "     print(f\"Renaming: {row['input']} -> {row['output']}\")\n",
    "     rename_file(row['input'], row['output'])"
   ]
  },
  {
   "cell_type": "code",
   "execution_count": 28,
   "id": "ec4e08d5",
   "metadata": {},
   "outputs": [
    {
     "name": "stdout",
     "output_type": "stream",
     "text": [
      "1\n",
      "2\n"
     ]
    }
   ],
   "source": [
    "for index, row in df_map.iterrows():\n",
    "    # print(f\"{index}: type = {type(index)}\")\n",
    "    print(f\"{index + 1}\")"
   ]
  },
  {
   "cell_type": "code",
   "execution_count": 33,
   "id": "52f06b58",
   "metadata": {},
   "outputs": [
    {
     "name": "stdout",
     "output_type": "stream",
     "text": [
      "i = 0; index = 0; row = input     input-files/hello.txt\n",
      "output                   Hello1\n",
      "Name: 0, dtype: object\n",
      "input-files/hello.txt\n",
      "i = 1; index = 1; row = input     input-files/world.txt\n",
      "output                   World1\n",
      "Name: 1, dtype: object\n",
      "input-files/world.txt\n"
     ]
    }
   ],
   "source": [
    "for i, (index, row) in enumerate(df_map.iterrows(), start=0):\n",
    "    print(f\"i = {i}; index = {index}; row = {row}\") \n",
    "    print(f\"{row[\"input\"]}\")"
   ]
  }
 ],
 "metadata": {
  "kernelspec": {
   "display_name": ".venv",
   "language": "python",
   "name": "python3"
  },
  "language_info": {
   "codemirror_mode": {
    "name": "ipython",
    "version": 3
   },
   "file_extension": ".py",
   "mimetype": "text/x-python",
   "name": "python",
   "nbconvert_exporter": "python",
   "pygments_lexer": "ipython3",
   "version": "3.13.2"
  }
 },
 "nbformat": 4,
 "nbformat_minor": 5
}
